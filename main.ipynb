{
 "metadata": {
  "language_info": {
   "codemirror_mode": {
    "name": "ipython",
    "version": 3
   },
   "file_extension": ".py",
   "mimetype": "text/x-python",
   "name": "python",
   "nbconvert_exporter": "python",
   "pygments_lexer": "ipython3",
   "version": "3.9.0-final"
  },
  "orig_nbformat": 2,
  "kernelspec": {
   "name": "python3",
   "display_name": "Python 3",
   "language": "python"
  }
 },
 "nbformat": 4,
 "nbformat_minor": 2,
 "cells": [
  {
   "cell_type": "code",
   "execution_count": 10,
   "metadata": {},
   "outputs": [],
   "source": [
    "from GoogleTrend import GoogleTrend\n",
    "\n",
    "q = str(input('請輸入要搜索的關鍵字： '))\n",
    "start = str(input('請輸入起始時間 例如：2004-01-01\\n'))\n",
    "end = str(input('請輸入最後時間 例如：2019-12-31\\n'))\n",
    "google_trend = GoogleTrend(q, [start, end], dev=False)"
   ]
  }
 ]
}