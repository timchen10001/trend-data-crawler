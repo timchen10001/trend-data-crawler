{
 "metadata": {
  "language_info": {
   "codemirror_mode": {
    "name": "ipython",
    "version": 3
   },
   "file_extension": ".py",
   "mimetype": "text/x-python",
   "name": "python",
   "nbconvert_exporter": "python",
   "pygments_lexer": "ipython3",
   "version": "3.8.5-final"
  },
  "orig_nbformat": 2,
  "kernelspec": {
   "name": "python3",
   "display_name": "Python 3",
   "language": "python"
  }
 },
 "nbformat": 4,
 "nbformat_minor": 2,
 "cells": [
  {
   "cell_type": "code",
   "execution_count": 2,
   "metadata": {},
   "outputs": [
    {
     "output_type": "stream",
     "name": "stdout",
     "text": [
      "\n",
      "正在抓取第 2007 年資料 ···\n",
      "https://trends.google.com.tw/trends/explore?date=2007-01-01%202007-06-30&q=1233\n",
      "https://trends.google.com.tw/trends/explore?date=2007-07-01%202007-12-31&q=1233\n",
      "\n",
      "正在抓取第 2008 年資料 ···\n",
      "https://trends.google.com.tw/trends/explore?date=2008-01-01%202008-06-30&q=1233\n",
      "https://trends.google.com.tw/trends/explore?date=2008-07-01%202008-12-31&q=1233\n",
      "\n",
      "正在合併資料 ···\n",
      "合併完成 ···\n",
      "目標位置在 /Users/studenttim/Desktop/GoogleTrend/data/day/1233\n",
      "\n"
     ]
    }
   ],
   "source": [
    "from GoogleTrend import GoogleTrend\n",
    "\n",
    "q = str(input('請輸入要搜索的關鍵字： '))\n",
    "start = str(input('請輸入起始時間 例如：2004-01-01\\n'))\n",
    "end = str(input('請輸入最後時間 例如：2019-12-31\\n'))\n",
    "google_trend = GoogleTrend(q, [start, end], dev=False)"
   ]
  }
 ]
}